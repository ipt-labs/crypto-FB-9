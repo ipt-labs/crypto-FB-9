{
 "cells": [
  {
   "cell_type": "markdown",
   "id": "0013c080-aa13-42e3-bd54-2e64601d0d76",
   "metadata": {
    "tags": []
   },
   "source": [
    "# <center> Лабораторна робота з криптографії №2</center>\n",
    "#### <div align=right >Виконав: Костюковець Остап ФБ-96</div>\n",
    "#### <div align=right >Варіант №5</div>"
   ]
  },
  {
   "cell_type": "markdown",
   "id": "5d5907ac-6550-4afd-834b-54f5ec6e38e8",
   "metadata": {},
   "source": [
    "### <center> Криптоаналіз шифру Віженера </center>\n",
    "\n",
    "**Мета**: Засвоєння методів частотного криптоаналізу. Здобуття навичок роботи та аналізу\n",
    "потокових шифрів гамування адитивного типу на прикладі шифру Віженера."
   ]
  },
  {
   "cell_type": "markdown",
   "id": "03354438-a31a-4150-8170-2cabae1c3ea1",
   "metadata": {},
   "source": [
    "## Хід роботи\n"
   ]
  },
  {
   "cell_type": "markdown",
   "id": "5b6f72c1-b7e1-40ce-8550-ab93f1c49a21",
   "metadata": {},
   "source": [
    "### Завдання 1\n",
    "\n",
    "> Самостійно підібрати текст для шифрування (2-3 кб) та ключі довжини r = 2, 3, 4, 5, а також довжини 10-20 знаків. Зашифрувати обраний відкритий текст шифром Віженера з цими ключами."
   ]
  },
  {
   "cell_type": "code",
   "execution_count": 1,
   "id": "77a78a77",
   "metadata": {},
   "outputs": [
    {
     "name": "stdout",
     "output_type": "stream",
     "text": [
      "преступлениеинаказаниегениальныйроманглавныетемыкоторогопреступлениеинаказаниежертвенностьилюбовьсвободаигордостьчеловекаобрамленыпочтидетективнымсюжетоммногократноэкранизированныйинеразпоставленныйнасценеонипосейденьчитаетсянаодномдыханиичастьперваячастьвтораячастьтретьячастьчетвертаячастьпятаячастьшестаяэпилогчастьперваявначалеиюлявчрезвычайножаркоевремяподвечеродинмолодойчеловеквышелизсвоейкаморкикоторуюнанималотжильцоввсмпереулкенаулицуимедленнокакбывнерешимостиотправилсяккнумостуонблагополучноизбегнулвстречиссвоеюхозяйкойналестницекаморкаегоприходиласьподсамоюкровлейвысокогопятиэтажногодомаипоходилаболеенашкафчемнаквартируквартирнаяжехозяйкаегоукоторойоннанималэтукаморкусобедомиприслугойпомещаласьодноюлестницейнижевотдельнойквартиреикаждыйразпривыходенаулицуемунепременнонадобылопроходитьмимохозяйкинойкухнипочтивсегданастежьотвореннойналестницуикаждыйразмолодойчеловекпроходямимочувствовалкакоетоболезненноеитрусливоеощущениекоторогостыдилсяиоткоторогоморщилсяонбылдолженкругомхозяйкеибоялсяснеювстретитьсянеточтобонбылтактрусливизабитсовсемдаженапротивноснекотороговременионбылвраздражительноминапряженномсостояниипохожемнаипохондриюондотогоуглубилсявсебяиуединилсяотвсехчтобоялсядажевсякойвстречинетольковстречисхозяйкойонбылзадавленбедностьюнодажестесненноеположениепересталовпоследнеевремятяготитьегонасущнымиделамисвоимионсовсемпересталинехотелзаниматьсяникакойхозяйкив\n"
     ]
    }
   ],
   "source": [
    "ru_RU = list(\"абвгдежзийклмнопрстуфхцчшщъыьэюя\")\n",
    "m = len(ru_RU)\n",
    "ru_enum = dict(zip(range(len(ru_RU)),ru_RU))\n",
    "ru_enum_re = dict(zip(ru_RU,range(len(ru_RU))))\n",
    "\n",
    "text = open(\"mytext.txt\", \"r\").read()\n",
    "print(text)"
   ]
  },
  {
   "cell_type": "code",
   "execution_count": 2,
   "id": "f682dfb5",
   "metadata": {},
   "outputs": [],
   "source": [
    "def encode(text, key):\n",
    "    r = len(key)\n",
    "    text_len = len(text)\n",
    "    encoded = \"\"\n",
    "    for i in range(text_len):\n",
    "        key_c = key[i % r]\n",
    "        encoded += ru_enum[(ru_enum_re[text[i]] + ru_enum_re[key_c]) % m]\n",
    "    return encoded\n",
    "\n",
    "\n",
    "def decode(text, key):\n",
    "    r = len(key)\n",
    "    text_len = len(text)\n",
    "    decoded = \"\"\n",
    "    for i in range(text_len):\n",
    "        key_c = key[i % r]\n",
    "        decoded += ru_enum[(ru_enum_re[text[i]] - ru_enum_re[key_c]) % m]\n",
    "    return decoded\n",
    "\n",
    "\n",
    "def encode_with_keys(text):\n",
    "    keys = [\"до\", \"йот\", \"море\", \"словодляшифра\"]\n",
    "    encoded = []\n",
    "    for key in keys:\n",
    "        encoded.append(encode(text, key))\n",
    "\n",
    "    return encoded, keys\n"
   ]
  },
  {
   "cell_type": "markdown",
   "id": "c35657df",
   "metadata": {},
   "source": [
    "### Завдання 2\n",
    "\n",
    "> Підрахувати індекси відповідності для відкритого тексту та всіх одержаних шифртекстів і порівняти їх значення."
   ]
  },
  {
   "cell_type": "code",
   "execution_count": 3,
   "id": "9a15af27-1d11-4845-85ee-0292186ccfdd",
   "metadata": {
    "tags": []
   },
   "outputs": [
    {
     "name": "stdout",
     "output_type": "stream",
     "text": [
      "Init text : 0.05688477295917046\n",
      "encoded text, key до : 0.04034888719693792\n",
      "encoded text, key йот : 0.042716927969503445\n",
      "encoded text, key море : 0.037513660777641386\n",
      "encoded text, key словодляшифра : 0.033082130407984627\n"
     ]
    }
   ],
   "source": [
    "from collections import Counter\n",
    "\n",
    "def index_of_coincidence(text):\n",
    "    n = len(text)\n",
    "    letter_frequency = Counter(text)\n",
    "    c_idx = 0\n",
    "\n",
    "    for pair in letter_frequency.items():\n",
    "        c_idx += pair[1] * (pair[1] - 1)\n",
    "\n",
    "    return c_idx / (n*(n-1))\n",
    "\n",
    "\n",
    "enc_w_keys, keys = encode_with_keys(text)\n",
    "standart_ci = index_of_coincidence(text)\n",
    "print(f\"Init text : {standart_ci}\")\n",
    "for i,v in enumerate(enc_w_keys):\n",
    "    print(f\"encoded text, key {keys[i]} : {index_of_coincidence(v)}\")\n",
    "\n"
   ]
  },
  {
   "cell_type": "markdown",
   "id": "04b618a1",
   "metadata": {},
   "source": [
    "### Завдання 3\n",
    "\n",
    "> Використовуючи наведені теоретичні відомості, розшифрувати наданий шифртекст (згідно свого номеру варіанта)."
   ]
  },
  {
   "cell_type": "code",
   "execution_count": 4,
   "id": "5f970f4d",
   "metadata": {},
   "outputs": [
    {
     "name": "stdout",
     "output_type": "stream",
     "text": [
      "Index of coincidence : 0.03532444245066751\n"
     ]
    }
   ],
   "source": [
    "text_5 = open(\"text.txt\",\"r\").read().replace(\"\\n\",'')\n",
    "print(f\"Index of coincidence : {index_of_coincidence(text_5)}\")"
   ]
  },
  {
   "cell_type": "code",
   "execution_count": 5,
   "id": "c1d30eea",
   "metadata": {},
   "outputs": [
    {
     "data": {
      "image/png": "[encoded data removed]",
      "text/plain": [
       "<Figure size 432x288 with 1 Axes>"
      ]
     },
     "metadata": {
      "needs_background": "light"
     },
     "output_type": "display_data"
    }
   ],
   "source": [
    "import matplotlib.pyplot as plot\n",
    "\n",
    "\n",
    "def draw_plot(key_lengths, i_cs):\n",
    "    for key_length in range(len(key_lengths)):\n",
    "        plot.bar(\n",
    "            key_lengths[key_length],\n",
    "            i_cs[key_length],\n",
    "            width=0.8,\n",
    "            bottom=None,\n",
    "            align=\"center\",\n",
    "            data=None,\n",
    "        )\n",
    "\n",
    "    plot.grid(which=\"major\", color=\"r\", linestyle=\"--\", linewidth=0.1)\n",
    "    plot.xlabel(\"Guess key length\")\n",
    "    plot.ylabel(\"Index of coincidence\")\n",
    "    plot.show()\n",
    "\n",
    "\n",
    "def get_key_length(text, standart):\n",
    "    ic_table = []\n",
    "\n",
    "    candidates = []\n",
    "    for guess_len in range(2, 30):\n",
    "        ic_sum = 0.0\n",
    "        avg_ic = 0.0\n",
    "        for i in range(guess_len):\n",
    "            sequence = \"\"\n",
    "            for j in range(0, len(text[i:]), guess_len):\n",
    "                sequence += text[i + j]\n",
    "\t\t\t\n",
    "            ic_sum += index_of_coincidence(sequence)\n",
    "\n",
    "        if not guess_len == 0:\n",
    "            avg_ic = ic_sum / guess_len\n",
    "        \n",
    "        if standart - 0.005 < avg_ic < standart + 0.005:\n",
    "            candidates.append(guess_len)\n",
    "        ic_table.append(avg_ic)\n",
    "\n",
    "        # print(avg_ic, guess_len)\n",
    "    draw_plot(range(2,30), ic_table)\n",
    "    return candidates\n",
    "\n",
    "candidates = get_key_length(text_5, standart_ci)"
   ]
  },
  {
   "cell_type": "code",
   "execution_count": 6,
   "id": "253683af",
   "metadata": {},
   "outputs": [
    {
     "name": "stdout",
     "output_type": "stream",
     "text": [
      "Possible keys: {'о': 'декелисоборойдей', 'е': 'ноуофсъчкчщчтнот', 'а': 'тушущцяьпьюьчтуч', 'и': 'клрлсочфзфцфпклп'}\n",
      "понятноеделокуль\n",
      "турунасильновчел\n",
      "овеканевоткнешьв\n",
      "ордусиэтудовольн\n",
      "огрустнуюистинуз\n",
      "налинаверноелучш\n",
      "ечемгдебытонибыл\n"
     ]
    },
    {
     "data": {
      "text/plain": [
       "5614"
      ]
     },
     "execution_count": 6,
     "metadata": {},
     "output_type": "execute_result"
    }
   ],
   "source": [
    "def hack_key(text, key_length):\n",
    "    possible_keys = []\n",
    "    common_letters = [\"о\", \"е\", \"а\", \"и\"]\n",
    "\n",
    "    possible_key_list = dict(zip(common_letters, [\"\"] * len(common_letters)))\n",
    "\n",
    "    for j in range(0, key_length):\n",
    "        sequence = \"\"\n",
    "        for i in range(j, len(text), key_length):\n",
    "            sequence += text[i]\n",
    "\n",
    "        most_common_letter = Counter(sequence).most_common(1)[0][0]\n",
    "        for i in common_letters:\n",
    "            key_letter = ru_enum[\n",
    "                (ru_enum_re[most_common_letter] - ru_enum_re[i] + m) % m\n",
    "            ]\n",
    "            possible_key_list[i] += key_letter\n",
    "\n",
    "    possible_keys.append(possible_key_list)\n",
    "    print(\"Possible keys:\", possible_key_list)\n",
    "    return possible_key_list\n",
    "\n",
    "\n",
    "key_list = hack_key(text_5, candidates[0])\n",
    "\n",
    "# print(decode(text_5,key_list['о']))\n",
    "\n",
    "for i in range(0, len(text_5[-100:]), 16):\n",
    "    print(decode(text_5, \"делолисоборотней\")[i : i + 16])\n",
    "\n",
    "open(\"decoded\",'w').write(decode(text_5,\"делолисоборотней\"))"
   ]
  },
  {
   "cell_type": "markdown",
   "id": "29a5606d",
   "metadata": {},
   "source": [
    "## Висновки\n",
    "\n",
    "> Під час виконання комп'ютерного практикуму я закріпив теоретичні знання та експериметальним чином дізнавля про індекс відповідності на прикладі посійського тексту. З використанням алгоритму знаходження індексу відповідності можна дізнатися довжину влюча тексту зашифрованого за Віженером, а все за допомогою частотного аналізу дізнатися і сам ключ."
   ]
  }
 ],
 "metadata": {
  "kernelspec": {
   "display_name": "Python 3 (ipykernel)",
   "language": "python",
   "name": "python3"
  },
  "language_info": {
   "codemirror_mode": {
    "name": "ipython",
    "version": 3
   },
   "file_extension": ".py",
   "mimetype": "text/x-python",
   "name": "python",
   "nbconvert_exporter": "python",
   "pygments_lexer": "ipython3",
   "version": "3.9.9"
  }
 },
 "nbformat": 4,
 "nbformat_minor": 5
}
