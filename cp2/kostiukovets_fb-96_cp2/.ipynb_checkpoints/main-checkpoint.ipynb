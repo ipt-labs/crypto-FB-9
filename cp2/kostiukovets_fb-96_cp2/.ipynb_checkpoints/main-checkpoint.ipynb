{
 "cells": [
  {
   "cell_type": "markdown",
   "id": "0013c080-aa13-42e3-bd54-2e64601d0d76",
   "metadata": {
    "tags": []
   },
   "source": [
    "# <center> Лабораторна робота з криптографії №2</center>\n",
    "#### <div align=right >Виконав: Костюковець Остап ФБ-96</div>\n",
    "#### <div align=right >Варіант №5</div>"
   ]
  },
  {
   "cell_type": "markdown",
   "id": "5d5907ac-6550-4afd-834b-54f5ec6e38e8",
   "metadata": {},
   "source": [
    "**Мета**: Засвоєння методів частотного криптоаналізу. Здобуття навичок роботи та аналізу\n",
    "потокових шифрів гамування адитивного типу на прикладі шифру Віженера."
   ]
  },
  {
   "cell_type": "markdown",
   "id": "03354438-a31a-4150-8170-2cabae1c3ea1",
   "metadata": {},
   "source": [
    "### Хід роботи\n"
   ]
  },
  {
   "cell_type": "code",
   "execution_count": 7,
   "id": "5b6f72c1-b7e1-40ce-8550-ab93f1c49a21",
   "metadata": {},
   "outputs": [],
   "source": [
    "ru_RU = list(\"абвгдежзийклмнопрстуфхцчшщъыьэюя\")"
   ]
  },
  {
   "cell_type": "code",
   "execution_count": 13,
   "id": "9a15af27-1d11-4845-85ee-0292186ccfdd",
   "metadata": {
    "tags": []
   },
   "outputs": [
    {
     "name": "stdout",
     "output_type": "stream",
     "text": [
      "('a', 2)\n",
      "('l', 2)\n",
      "('s', 3)\n",
      "('d', 3)\n",
      "('k', 4)\n",
      "('f', 3)\n",
      "('j', 4)\n",
      "('b', 1)\n",
      "('p', 1)\n",
      "('i', 3)\n",
      "('o', 2)\n",
      "('h', 1)\n",
      "('n', 1)\n",
      "('c', 1)\n",
      "(' ', 1)\n",
      "('m', 1)\n",
      "('x', 1)\n",
      "('u', 1)\n",
      "('r', 1)\n",
      "('e', 1)\n"
     ]
    }
   ],
   "source": [
    "from collections import Counter\n",
    "def conformity_index(text):\n",
    "    n = len(text)\n",
    "    letter_frequency = Counter(text)\n",
    "    c_idx = 0\n",
    "    \n",
    "    for pair in letter_frequency.items():\n",
    "        c_idx += (pair[1]*(pair[1] - 1)\n",
    "    \n",
    "    \n",
    "\n",
    "conformity_index(text)\n",
    "text = \"alsdkfjlkbjapisdofhkjsfncoi kjmxiudre\""
   ]
  }
 ],
 "metadata": {
  "kernelspec": {
   "display_name": "Python 3 (ipykernel)",
   "language": "python",
   "name": "python3"
  },
  "language_info": {
   "codemirror_mode": {
    "name": "ipython",
    "version": 3
   },
   "file_extension": ".py",
   "mimetype": "text/x-python",
   "name": "python",
   "nbconvert_exporter": "python",
   "pygments_lexer": "ipython3",
   "version": "3.8.12"
  }
 },
 "nbformat": 4,
 "nbformat_minor": 5
}
