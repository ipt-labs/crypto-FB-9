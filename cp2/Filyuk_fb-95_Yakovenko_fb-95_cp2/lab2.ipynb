{
 "cells": [
  {
   "cell_type": "markdown",
   "metadata": {},
   "source": [
    "Зчитуємо файл"
   ]
  },
  {
   "cell_type": "code",
   "execution_count": 2,
   "metadata": {},
   "outputs": [],
   "source": [
    "import os\n",
    "def read_file(default=\"./test_text_small.txt\"):\n",
    "    with open(default, mode = 'r', encoding = 'utf-8') as infile:\n",
    "        unfiltered = infile.read().lower() #reading file, bringing to lowertext\n",
    "        unfiltered = ''.join(unfiltered.split())\n",
    "\n",
    "    #Фільтрація\n",
    "    allowed_no_whitespace = 'абвгдежзийклмнопрстуфхцчшщъыьэюя'\n",
    "    text = ''\n",
    "    for char in unfiltered:\n",
    "        if char in allowed_no_whitespace:\n",
    "            text+=char\n",
    "        if char =='ё':\n",
    "            text+='е'  \n",
    "    return text"
   ]
  },
  {
   "cell_type": "code",
   "execution_count": 3,
   "metadata": {},
   "outputs": [],
   "source": [
    "filtered_text = read_file()"
   ]
  },
  {
   "cell_type": "markdown",
   "metadata": {},
   "source": [
    "Створимо зразки для аналізу"
   ]
  },
  {
   "cell_type": "code",
   "execution_count": 4,
   "metadata": {},
   "outputs": [],
   "source": [
    "#Алфавіт в цифру\n",
    "def to_numbers(text):\n",
    "    alphabet = 'абвгдежзийклмнопрстуфхцчшщъыьэюя'\n",
    "    alphabet = dict(zip(alphabet,range(len(alphabet))))\n",
    "\n",
    "    return [alphabet.get(x) for x in text]\n",
    "#навпаки\n",
    "def to_chars(text):\n",
    "    alphabet = 'абвгдежзийклмнопрстуфхцчшщъыьэюя'\n",
    "    alphabet = dict(zip(alphabet,range(len(alphabet))))\n",
    "    alphabet = dict((v,k) for k,v in alphabet.items())\n",
    "    return [alphabet.get(x) for x in text]\n"
   ]
  },
  {
   "cell_type": "code",
   "execution_count": 5,
   "metadata": {},
   "outputs": [],
   "source": [
    "def encode_all(text, key):\n",
    "    key = to_numbers(key)\n",
    "    text = to_numbers (text)\n",
    "    for x in range(len(text)):\n",
    "        text[x] =  (int(text[x]) + int(key[x%len(key)])) % 32\n",
    "    return to_chars(text)"
   ]
  },
  {
   "cell_type": "code",
   "execution_count": 6,
   "metadata": {},
   "outputs": [],
   "source": [
    "keys = 'ок юнг карл добро Абитуриент абракадабра аббревиатура Автобиография Абстракционизм Безнравственный Абстрагироваться Безукоризненность Вероотступничество Достопримечательный Лжесвидетельствовать'.lower()\n",
    "keys = keys.split(\" \")\n",
    "for key in keys:\n",
    "\ttext = ''.join(encode_all(filtered_text,key))\n",
    "\twith open(f\"./samples/{key}.txt\", 'w', encoding= 'utf-8') as outfile:\n",
    "\t\toutfile.write(text)"
   ]
  },
  {
   "cell_type": "markdown",
   "metadata": {},
   "source": [
    "Створимо н-грами"
   ]
  },
  {
   "cell_type": "code",
   "execution_count": 7,
   "metadata": {},
   "outputs": [
    {
     "name": "stdout",
     "output_type": "stream",
     "text": [
      "Ngrams::\n",
      "['с', 'п', 'а', 'с', 'и', 'б', 'о', 'ч', 'т', 'о']\n",
      "Counted ngrams::\n",
      "[('о', 29301), ('а', 24239), ('н', 18678)]\n"
     ]
    }
   ],
   "source": [
    "from collections import Counter\n",
    "\n",
    "def ngram_ctr(letters):\n",
    "    keys = Counter(letters).keys() #stores n-gram to keys\n",
    "    values = [x for x in Counter(letters).values()] #counts corresponding frequencies\n",
    "    #creating a new dict\n",
    "    retval =  dict(zip(keys, values))\n",
    "    return dict(sorted(retval.items(), key=lambda item: item[1], reverse=True)) #sorting dict from highest to lowest\n",
    "\n",
    "def ngrams(letters):\n",
    "    monogr = [letters[iter:iter+1] for iter in range(0,len(letters),1)] #stores each symbol to list, like [a, b, c, ...]\n",
    "    return monogr\n",
    "    \n",
    "def combined(text):\n",
    "    return ngram_ctr(ngrams(text))\n",
    "\n",
    "monogr_no_whitespaces = ngrams(filtered_text)\n",
    "\n",
    "print(\"Ngrams::\")\n",
    "print(monogr_no_whitespaces[:10])\n",
    "\n",
    "print(\"Counted ngrams::\")\n",
    "monogr_no_whitespaces = ngram_ctr(monogr_no_whitespaces)\n",
    "\n",
    "print(list(monogr_no_whitespaces.items())[:3])"
   ]
  },
  {
   "cell_type": "code",
   "execution_count": 8,
   "metadata": {},
   "outputs": [],
   "source": [
    "def Index(monograms):\n",
    "\tcounts = monograms.values()\n",
    "\tlength = sum(counts)\n",
    "\tsums = []\n",
    "\tfor item in counts:\n",
    "\t\tsums.append((item * item - 1) / (length * (length - 1)))\n",
    "\treturn sum(sums)"
   ]
  },
  {
   "cell_type": "markdown",
   "metadata": {},
   "source": [
    "Індекс відповідності незашифрованого тексту"
   ]
  },
  {
   "cell_type": "code",
   "execution_count": 9,
   "metadata": {},
   "outputs": [
    {
     "name": "stdout",
     "output_type": "stream",
     "text": [
      "Індекс відповідності тексту 0.051725509617763156\n"
     ]
    }
   ],
   "source": [
    "print(f\"Індекс відповідності тексту {Index(monogr_no_whitespaces)}\")"
   ]
  },
  {
   "cell_type": "code",
   "execution_count": 10,
   "metadata": {},
   "outputs": [
    {
     "name": "stdout",
     "output_type": "stream",
     "text": [
      "ок.txt:: довжина == 2:: 0.04145869979506963\n",
      "юнг.txt:: довжина == 3:: 0.036634244014512776\n",
      "карл.txt:: довжина == 4:: 0.035738788564177615\n",
      "добро.txt:: довжина == 5:: 0.036171210361810716\n",
      "абитуриент.txt:: довжина == 10:: 0.03388476873148918\n",
      "абракадабра.txt:: довжина == 11:: 0.03633602960565197\n",
      "аббревиатура.txt:: довжина == 12:: 0.034237802416873894\n",
      "автобиография.txt:: довжина == 13:: 0.03331872483072929\n",
      "абстракционизм.txt:: довжина == 14:: 0.03268068386986754\n",
      "безнравственный.txt:: довжина == 15:: 0.0330052143078738\n",
      "абстрагироваться.txt:: довжина == 16:: 0.033304581730989644\n",
      "безукоризненность.txt:: довжина == 17:: 0.03336284484440337\n",
      "вероотступничество.txt:: довжина == 18:: 0.03366149534243784\n",
      "достопримечательный.txt:: довжина == 19:: 0.03262808140553253\n",
      "лжесвидетельствовать.txt:: довжина == 20:: 0.03303088640013991\n"
     ]
    }
   ],
   "source": [
    "import os\n",
    "samples = os.listdir(\"./samples\")\n",
    "samples.sort(key=len)\n",
    "samples_len = [len(item.split('.')[0]) for item in samples]\n",
    "for file in range(len(samples)):\n",
    "    text = read_file(\"./samples/\"+samples[file])\n",
    "    print(f\"{samples[file]}:: довжина == {samples_len[file]}:: {Index(combined(text))}\")\n",
    "    "
   ]
  },
  {
   "cell_type": "markdown",
   "metadata": {},
   "source": [
    "Розшифровка"
   ]
  },
  {
   "cell_type": "code",
   "execution_count": 11,
   "metadata": {},
   "outputs": [],
   "source": [
    "#decode\n",
    "def decode_one(character, keychar):\n",
    "    return (character-keychar)%32\n",
    "    ...\n",
    "def decode_all(text, key):\n",
    "    text = to_numbers(text)\n",
    "    key = to_numbers(key)\n",
    "    for x in range(len(text)):\n",
    "        text[x] = decode_one(text[x],key[x%len(key)])\n",
    "    return to_chars(text)   \n"
   ]
  },
  {
   "cell_type": "code",
   "execution_count": 12,
   "metadata": {},
   "outputs": [
    {
     "name": "stdout",
     "output_type": "stream",
     "text": [
      "15 0.058245951219597504\n",
      "posibble key length is [15]\n",
      "30 0.060111105793404\n",
      "posibble key length is [30]\n"
     ]
    }
   ],
   "source": [
    "# decoding procedure\n",
    "data = read_file('./7.txt')\n",
    "results = []\n",
    "for length in range(2,31):\n",
    "    substing_index = []\n",
    "    for substring in range(length):\n",
    "        substing_index.append(Index(combined(data[substring::length])))\n",
    "    results.append(sum(substing_index)/len(substing_index))\n",
    "\n",
    "\n",
    "for i in range(len(results)):\n",
    "    posible = []\n",
    "    if results[i] >= 0.05:\n",
    "        print(i+2, results[i])\n",
    "        posible.append(i+2)\n",
    "        print(f'posibble key length is {posible}')"
   ]
  },
  {
   "cell_type": "code",
   "execution_count": 13,
   "metadata": {},
   "outputs": [
    {
     "name": "stdout",
     "output_type": "stream",
     "text": [
      "оюбтохуроюгцъос\n",
      "арудазевархимаг\n",
      "оюбтохуроюгцъос\n",
      "йщьнйролйщюсхйм\n",
      "жцщкжнлижцыотжй\n",
      "бсфебижгбсцйнбд\n"
     ]
    }
   ],
   "source": [
    "#вводимо можливу довжину ключа\n",
    "key_length = 15\n",
    "#найчастіші букви\n",
    "common = \"оаеин\"\n",
    "\n",
    "temp = []\n",
    "for length in range(2,key_length+1):\n",
    "    substings = ''\n",
    "    for substring in range(length):\n",
    "        x = combined(data[substring::length])\n",
    "        substings+=(list(x.keys())[0])\n",
    "\n",
    "print(substings)\n",
    "\n",
    "for i in common:\n",
    "    print(''.join(decode_all(substings,i)))\n",
    "\n"
   ]
  },
  {
   "cell_type": "markdown",
   "metadata": {},
   "source": [
    "можливий ключ - арудазевархимаг"
   ]
  },
  {
   "cell_type": "code",
   "execution_count": 14,
   "metadata": {},
   "outputs": [
    {
     "name": "stdout",
     "output_type": "stream",
     "text": [
      "пабьлхэбтэхмвах\n",
      "прошлошятнадцат\n"
     ]
    }
   ],
   "source": [
    "key = 'арудазевархимаг'\n",
    "print(data[:len(key)])\n",
    "decoded = ''.join(decode_all(data,key))\n",
    "print(decoded[:len(key)]) "
   ]
  },
  {
   "cell_type": "markdown",
   "metadata": {},
   "source": [
    "можливий ключ - арудазевархимаг\n",
    "результат -     прошлошятнадцат\n",
    "\n",
    "ШТ      пабьлх э бтэхмвах\n",
    "ключ    арудаз е вархимаг\n",
    "ВТ      прошло ш ятнадцат\n",
    "\n",
    "буква ш не підходить, спробуємо підібрати"
   ]
  },
  {
   "cell_type": "code",
   "execution_count": 15,
   "metadata": {},
   "outputs": [
    {
     "name": "stdout",
     "output_type": "stream",
     "text": [
      "о [14]\n"
     ]
    }
   ],
   "source": [
    "SHT = to_numbers('э')[0]\n",
    "VT = to_numbers('п')[0]\n",
    "for key in 'абвгдежзийклмнопрстуфхцчшщъыьэюя':\n",
    "    if decode_one(SHT,to_numbers(key)[0]) == VT:\n",
    "        print(key, to_numbers(key)) "
   ]
  },
  {
   "cell_type": "markdown",
   "metadata": {},
   "source": [
    "отже спробуємо ключ арудазовархимаг"
   ]
  },
  {
   "cell_type": "code",
   "execution_count": 16,
   "metadata": {},
   "outputs": [
    {
     "name": "stdout",
     "output_type": "stream",
     "text": [
      "пабьлхэбтэхмвах\n",
      "прошлопятнадцат\n"
     ]
    }
   ],
   "source": [
    "key = 'арудазовархимаг'\n",
    "print(data[:len(key)])\n",
    "decoded = ''.join(decode_all(data,key))\n",
    "print(decoded[:len(key)])  "
   ]
  },
  {
   "cell_type": "code",
   "execution_count": 17,
   "metadata": {},
   "outputs": [],
   "source": [
    "text = ''.join(decoded)\n",
    "with open(f\"./{key}.txt\", 'w', encoding= 'utf-8') as outfile:\n",
    "\toutfile.write(text)"
   ]
  },
  {
   "cell_type": "code",
   "execution_count": null,
   "metadata": {},
   "outputs": [],
   "source": []
  }
 ],
 "metadata": {
  "interpreter": {
   "hash": "6787530bf9925b057af33f954282f7ad07558b12920f3eef54087b2f6236d6d8"
  },
  "kernelspec": {
   "display_name": "Python 3 (ipykernel)",
   "language": "python",
   "name": "python3"
  },
  "language_info": {
   "codemirror_mode": {
    "name": "ipython",
    "version": 3
   },
   "file_extension": ".py",
   "mimetype": "text/x-python",
   "name": "python",
   "nbconvert_exporter": "python",
   "pygments_lexer": "ipython3",
   "version": "3.10.1"
  }
 },
 "nbformat": 4,
 "nbformat_minor": 2
}
