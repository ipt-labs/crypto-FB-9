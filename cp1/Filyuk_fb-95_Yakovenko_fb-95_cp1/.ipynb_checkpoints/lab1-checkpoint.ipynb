{
 "cells": [
  {
   "cell_type": "markdown",
   "metadata": {},
   "source": [
    "Зчитуємо файл"
   ]
  },
  {
   "cell_type": "code",
   "execution_count": null,
   "metadata": {},
   "outputs": [],
   "source": []
  },
  {
   "cell_type": "code",
   "execution_count": 8,
   "metadata": {},
   "outputs": [
    {
     "name": "stdout",
     "output_type": "stream",
     "text": [
      "['с', 'п', 'а', 'с', 'и', 'б', 'о', ',', ' ', 'ч']\n"
     ]
    }
   ],
   "source": [
    "with open(\"./test_text.txt\", mode = 'r', encoding = 'cp1251') as infile:\n",
    "    unfiltered = [x for x in infile.read().lower()] #reading file, bringing to lowertext\n",
    "\n",
    "print(unfiltered[:10])"
   ]
  },
  {
   "cell_type": "markdown",
   "metadata": {},
   "source": [
    "Фільтрація алфавіту"
   ]
  },
  {
   "cell_type": "code",
   "execution_count": 40,
   "metadata": {},
   "outputs": [
    {
     "name": "stdout",
     "output_type": "stream",
     "text": [
      "спасибо чт\n",
      "спасибочто\n"
     ]
    }
   ],
   "source": [
    "allowed_no_whitespace = 'абвгдежзийклмнопрстуфхцчшщыьэюя'\n",
    "\n",
    "filtered_whitespaces = ''\n",
    "filtered_no_whitespaces = ''\n",
    "for char in unfiltered:\n",
    "    if char in allowed_no_whitespace:\n",
    "        filtered_whitespaces+=char\n",
    "        filtered_no_whitespaces+=char\n",
    "    if char =='ё':\n",
    "        filtered_whitespaces+='е'\n",
    "        filtered_no_whitespaces+='е'\n",
    "    if char =='ъ':\n",
    "        filtered_whitespaces+='ь'\n",
    "        filtered_no_whitespaces+='ь'    \n",
    "    if char ==' ':\n",
    "        filtered_whitespaces+=' '\n",
    "\n",
    "print(f'{filtered_whitespaces[:10]}\\n{filtered_no_whitespaces[:10]}')"
   ]
  },
  {
   "cell_type": "markdown",
   "metadata": {},
   "source": [
    "Створимо н-грами"
   ]
  },
  {
   "cell_type": "code",
   "execution_count": 50,
   "metadata": {},
   "outputs": [
    {
     "name": "stdout",
     "output_type": "stream",
     "text": [
      "Ngrams::\n",
      "['с', 'п', 'а', 'с', 'и', 'б', 'о', ' ', 'ч', 'т']\n",
      "['сп', 'па', 'ас', 'си', 'иб', 'бо', 'о ', ' ч', 'чт', 'то']\n",
      "['сп', 'ас', 'иб', 'о ', 'чт', 'о ', 'ск', 'ач', 'ал', 'и ']\n",
      "['с', 'п', 'а', 'с', 'и', 'б', 'о', 'ч', 'т', 'о']\n",
      "['сп', 'па', 'ас', 'си', 'иб', 'бо', 'оч', 'чт', 'то', 'ос']\n",
      "['сп', 'ас', 'иб', 'оч', 'то', 'ск', 'ач', 'ал', 'ик', 'ни']\n",
      "Counted ngrams::\n",
      "[(' ', 0.16696660094675655), ('о', 0.09174721129916165), ('а', 0.07065186544980682)]\n",
      "[('ь ', 0.04365778024171703), ('о ', 0.022643270455107032), ('а ', 0.018322267583420235)]\n",
      "[('ь ', 0.04367782089031986), ('о ', 0.02265701679554565), ('а ', 0.018226515130667694)]\n",
      "[('о', 0.11013629393903523), ('а', 0.08481276444630415), ('н', 0.06961355396562784)]\n",
      "[('то', 0.017342309481664597), ('ст', 0.013867516014744301), ('на', 0.013826223163087493)]\n",
      "[('то', 0.017281058418373667), ('ст', 0.013782177454653566), ('на', 0.013736755317831079)]\n"
     ]
    }
   ],
   "source": [
    "from collections import Counter\n",
    "\n",
    "def ngram_ctr(letters):\n",
    "    keys = Counter(letters).keys() #stores n-gram to keys\n",
    "    values = [x/len(letters) for x in Counter(letters).values()] #counts corresponding frequencies\n",
    "    #creating a new dict\n",
    "    retval =  dict(zip(keys, values))\n",
    "    return dict(sorted(retval.items(), key=lambda item: item[1], reverse=True)) #sorting dict from highest to lowest\n",
    "\n",
    "def ngrams(letters):\n",
    "    monogr = [letters[iter:iter+1] for iter in range(0,len(letters),1)] #stores each symbol to list, like [a, b, c, ...]\n",
    "    bigr_no_cross = [letters[iter:iter+2] for iter in range(0,len(letters),2)] #stores each 2 symbols to list, like [ab, cd, ef, ...]\n",
    "    bigr_cross = [letters[iter:iter+2] for iter in range(0,len(letters))] #stores each 2 symbols to list, like [ab, bc, cd, ...]\n",
    "    return monogr, bigr_cross, bigr_no_cross\n",
    "\n",
    "monogr_whitespaces, bigr_cross_whitespaces, bigr_no_cross_whitespaces = ngrams(filtered_whitespaces)\n",
    "monogr_no_whitespaces, bigr_cross_no_whitespaces, bigr_no_cross_no_whitespaces = ngrams(filtered_no_whitespaces)\n",
    "\n",
    "print(\"Ngrams::\")\n",
    "print(monogr_whitespaces[:10])\n",
    "print(bigr_cross_whitespaces[:10])\n",
    "print(bigr_no_cross_whitespaces[:10])\n",
    "print(monogr_no_whitespaces[:10])\n",
    "print(bigr_cross_no_whitespaces[:10])\n",
    "print(bigr_no_cross_no_whitespaces[:10])\n",
    "\n",
    "print(\"Counted ngrams::\")\n",
    "monogr_whitespaces = ngram_ctr(monogr_whitespaces)\n",
    "bigr_cross_whitespaces = ngram_ctr(bigr_cross_whitespaces)\n",
    "bigr_no_cross_whitespaces = ngram_ctr(bigr_no_cross_whitespaces)\n",
    "monogr_no_whitespaces = ngram_ctr(monogr_no_whitespaces)\n",
    "bigr_cross_no_whitespaces = ngram_ctr(bigr_cross_no_whitespaces)\n",
    "bigr_no_cross_no_whitespaces = ngram_ctr(bigr_no_cross_no_whitespaces)\n",
    "\n",
    "print(list(monogr_whitespaces.items())[:3])\n",
    "print(list(bigr_cross_whitespaces.items())[:3])\n",
    "print(list(bigr_no_cross_whitespaces.items())[:3])\n",
    "print(list(monogr_no_whitespaces.items())[:3])\n",
    "print(list(bigr_cross_no_whitespaces.items())[:3])\n",
    "print(list(bigr_no_cross_no_whitespaces.items())[:3])"
   ]
  },
  {
   "cell_type": "markdown",
   "metadata": {},
   "source": [
    "Порахуємо ентропію"
   ]
  },
  {
   "cell_type": "code",
   "execution_count": 97,
   "metadata": {},
   "outputs": [
    {
     "name": "stdout",
     "output_type": "stream",
     "text": [
      "Монограми з пробілами            :: H 4.373061541633308  R 0.1253876916733384\n",
      "Перехресні біграми з пробілами   :: H 3.9362295675269303 R 0.21275408649461391\n",
      "Неперехресні біграми з пробілами :: H 3.935219353274349  R 0.2129561293451302\n",
      "Монограми                        :: H 4.468420072218363  R 0.10631598555632737\n",
      "Перехресні біграми               :: H 4.129031686272766  R 0.1741936627454468\n",
      "Неперехресні біграми             :: H 4.128880762300231  R 0.1742238475399539\n"
     ]
    }
   ],
   "source": [
    "import math\n",
    "def entropy(ngram):\n",
    "\t#Ентропія, формула в методі\n",
    "\tentropy = 0\n",
    "\tfor item in ngram.keys():\n",
    "\t\tentropy += ngram.get(item) * math.log(ngram.get(item), 2) / math.log(len(item * 2), 2)\n",
    "\treturn -1*entropy\n",
    "\n",
    "def R(entropy):\n",
    "\t#надлишковість, формула в методі\n",
    "\treturn 1 - entropy/math.log(32,2)\n",
    "\n",
    "monogr_whitespaces_entr = entropy(monogr_whitespaces)\n",
    "bigr_cross_whitespaces_entr = entropy(bigr_cross_whitespaces)\n",
    "bigr_no_cross_whitespaces_entr = entropy(bigr_no_cross_whitespaces)\n",
    "monogr_no_whitespaces_entr = entropy(monogr_no_whitespaces)\n",
    "bigr_cross_no_whitespaces_entr = entropy(bigr_cross_no_whitespaces)\n",
    "bigr_no_cross_no_whitespaces_entr = entropy(bigr_no_cross_no_whitespaces)\n",
    "\n",
    "\n",
    "print(f\"Монограми з пробілами            :: H {monogr_whitespaces_entr}  R {R(monogr_whitespaces_entr)}\")\n",
    "print(f\"Перехресні біграми з пробілами   :: H {bigr_cross_whitespaces_entr} R {R(bigr_cross_whitespaces_entr)}\")\n",
    "print(f\"Неперехресні біграми з пробілами :: H {bigr_no_cross_whitespaces_entr}  R {R(bigr_no_cross_whitespaces_entr)}\")\n",
    "print(f\"Монограми                        :: H {monogr_no_whitespaces_entr}  R {R(monogr_no_whitespaces_entr)}\")\n",
    "print(f\"Перехресні біграми               :: H {bigr_cross_no_whitespaces_entr}  R {R(bigr_cross_no_whitespaces_entr)}\")\n",
    "print(f\"Неперехресні біграми             :: H {bigr_no_cross_no_whitespaces_entr}  R {R(bigr_no_cross_no_whitespaces_entr)}\")"
   ]
  },
  {
   "cell_type": "code",
   "execution_count": 90,
   "metadata": {},
   "outputs": [
    {
     "name": "stdout",
     "output_type": "stream",
     "text": [
      "' ' 0.16697\n",
      "'о' 0.09175\n",
      "'а' 0.07065\n",
      "'н' 0.05799\n",
      "'е' 0.0569\n",
      "'ь' 0.05048\n",
      "'т' 0.05031\n",
      "'и' 0.04941\n",
      "'с' 0.04385\n",
      "'л' 0.03845\n",
      "'в' 0.03701\n",
      "'р' 0.03375\n",
      "'к' 0.02812\n",
      "'д' 0.02343\n",
      "'м' 0.02324\n",
      "'у' 0.022\n",
      "'п' 0.01958\n",
      "'я' 0.01759\n",
      "'ч' 0.01522\n",
      "'г' 0.01476\n",
      "'ы' 0.01465\n",
      "'з' 0.01445\n",
      "'б' 0.01404\n",
      "'й' 0.0096\n",
      "'ж' 0.00884\n",
      "'х' 0.00658\n",
      "'ш' 0.00656\n",
      "'ю' 0.00484\n",
      "'э' 0.00291\n",
      "'щ' 0.00267\n",
      "'ц' 0.00245\n",
      "'ф' 0.00095\n",
      "\n",
      "'о' 0.11014\n",
      "'а' 0.08481\n",
      "'н' 0.06961\n",
      "'е' 0.06831\n",
      "'ь' 0.0606\n",
      "'т' 0.06039\n",
      "'и' 0.05931\n",
      "'с' 0.05264\n",
      "'л' 0.04615\n",
      "'в' 0.04443\n",
      "'р' 0.04052\n",
      "'к' 0.03376\n",
      "'д' 0.02813\n",
      "'м' 0.0279\n",
      "'у' 0.02641\n",
      "'п' 0.0235\n",
      "'я' 0.02112\n",
      "'ч' 0.01827\n",
      "'г' 0.01771\n",
      "'ы' 0.01759\n",
      "'з' 0.01734\n",
      "'б' 0.01686\n",
      "'й' 0.01152\n",
      "'ж' 0.01062\n",
      "'х' 0.0079\n",
      "'ш' 0.00788\n",
      "'ю' 0.00581\n",
      "'э' 0.00349\n",
      "'щ' 0.00321\n",
      "'ц' 0.00294\n",
      "'ф' 0.00113\n"
     ]
    }
   ],
   "source": [
    "for x in list(monogr_whitespaces.items()):\n",
    "    print(f\"'{x[0]}'\", round(x[1],5))\n",
    "print()\n",
    "for x in list(monogr_no_whitespaces.items()):\n",
    "   print(f\"'{x[0]}'\", round(x[1],5))"
   ]
  }
 ],
 "metadata": {
  "interpreter": {
   "hash": "6787530bf9925b057af33f954282f7ad07558b12920f3eef54087b2f6236d6d8"
  },
  "kernelspec": {
   "display_name": "Python 3 (ipykernel)",
   "language": "python",
   "name": "python3"
  },
  "language_info": {
   "codemirror_mode": {
    "name": "ipython",
    "version": 3
   },
   "file_extension": ".py",
   "mimetype": "text/x-python",
   "name": "python",
   "nbconvert_exporter": "python",
   "pygments_lexer": "ipython3",
   "version": "3.10.1"
  }
 },
 "nbformat": 4,
 "nbformat_minor": 2
}
