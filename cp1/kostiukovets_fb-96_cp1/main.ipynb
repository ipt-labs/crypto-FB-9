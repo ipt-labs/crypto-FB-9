{
 "cells": [
  {
   "cell_type": "markdown",
   "id": "a0004719",
   "metadata": {},
   "source": [
    "# <center> Лабораторна робота з криптографії №1</center>\n",
    "#### <div align=right >Виконав: Костюковець Остап ФБ-96</div>\n",
    "#### <div align=right >Варіант №5</div>"
   ]
  },
  {
   "cell_type": "markdown",
   "id": "59334f93",
   "metadata": {},
   "source": [
    "### <center> Експериментальна оцінка ентропії на символ джерела відкритого тексту </center>\n",
    "\n",
    "**Мета**: Засвоєння понять ентропії на символ джерела та його надлишковості, вивчення та\n",
    "порівняння різних моделей джерела відкритого тексту для наближеного визначення\n",
    "ентропії, набуття практичних навичок щодо оцінки ентропії на символ джерела."
   ]
  },
  {
   "cell_type": "markdown",
   "id": "653b6150",
   "metadata": {
    "tags": []
   },
   "source": [
    "## Хід роботи"
   ]
  },
  {
   "cell_type": "markdown",
   "id": "dcd2aba4",
   "metadata": {
    "jp-MarkdownHeadingCollapsed": true,
    "tags": []
   },
   "source": [
    "### Завдання 1\n",
    "\n",
    " > Написати програми для підрахунку частот букв і частот біграм в тексті, а також підрахунку H 1 та H 2 за безпосереднім означенням. Підрахувати частоти букв та біграм, атакож значення H 1 та H 2 на довільно обраному тексті російською мовою достатньої довжини (щонайменше 1Мб), де імовірності замінити відповідними частотами. Також одержати значення H 1 та H 2 на тому ж тексті, в якому вилучено всі пробіли."
   ]
  },
  {
   "cell_type": "code",
   "execution_count": 1,
   "id": "437323f8-ebd1-437c-a77c-14bca04f6766",
   "metadata": {},
   "outputs": [],
   "source": [
    "ru_RU = 'абвгдежзийклмнопрстуфхцчшщыьэюя'\n",
    "text = open(\"text.txt\").read().lower().replace(\"ъ\",\"ь\").replace(\"ё\",\"е\")\n",
    "\n",
    "filtered_whitespaces = ' '.join(''.join([i if i in ru_RU else ' ' for i in text]).split())\n",
    "filtered_no_whitespaces = filtered_whitespaces.replace(' ','')"
   ]
  },
  {
   "cell_type": "markdown",
   "id": "7a4fbe60",
   "metadata": {},
   "source": [
    "#### Частоти букв, без пробілів"
   ]
  },
  {
   "cell_type": "code",
   "execution_count": 2,
   "id": "d711b067-0e0f-4942-b142-6f6c41651f77",
   "metadata": {},
   "outputs": [
    {
     "name": "stdout",
     "output_type": "stream",
     "text": [
      "[('о', 0.10584571020317421), ('е', 0.08401953822278149), ('а', 0.08243308288203895), ('н', 0.0648309831490383), ('и', 0.062441587146042386), ('т', 0.06075800188647887), ('л', 0.05252786009838181), ('р', 0.046900800134686824), ('с', 0.046194989391254423), ('в', 0.04187378722504139), ('к', 0.03777706309343682), ('д', 0.03151542099344481), ('у', 0.030980127218609228), ('м', 0.029898747455735737), ('п', 0.027291348746052747), ('ь', 0.022348515099385492), ('я', 0.022279444934890577), ('ы', 0.01967636311048852), ('г', 0.019454043518520515), ('з', 0.017880538833620768), ('б', 0.01760641661828158), ('ч', 0.015430706436691798), ('й', 0.011353408288851428), ('ж', 0.010215909017325818), ('ш', 0.009704358111535366), ('х', 0.008452461380065055), ('ю', 0.007101276287133308), ('щ', 0.004278033313403713), ('э', 0.004193854050425537), ('ц', 0.0033563783059247093), ('ф', 0.0013792448472578066)]\n"
     ]
    }
   ],
   "source": [
    "from collections import Counter\n",
    "letter_frequency = Counter(filtered_no_whitespaces)\n",
    "for i in ru_RU:\n",
    "    letter_frequency[i] /= len(filtered_no_whitespaces)\n",
    "print(sorted(letter_frequency.items(),\n",
    "      key=lambda item: item[1], reverse=True))"
   ]
  },
  {
   "cell_type": "markdown",
   "id": "07e5b88e",
   "metadata": {},
   "source": [
    "#### Частоти букв, з пробілами"
   ]
  },
  {
   "cell_type": "code",
   "execution_count": 3,
   "id": "7276e9d7",
   "metadata": {},
   "outputs": [
    {
     "name": "stdout",
     "output_type": "stream",
     "text": [
      "[(' ', 0.16066190923930077), ('о', 0.0888403363171425), ('е', 0.07052079879850502), ('а', 0.06918922640172905), ('н', 0.05441511361845287), ('и', 0.05240960253922704), ('т', 0.05099650530183213), ('л', 0.04408863380672091), ('р', 0.03936562804019718), ('с', 0.03877321419836624), ('в', 0.03514626462238599), ('к', 0.03170772801139174), ('д', 0.026452093286157625), ('у', 0.026002800831191043), ('м', 0.025095157605633547), ('п', 0.022906668550796316), ('ь', 0.018757959994854877), ('я', 0.01869998677485919), ('ы', 0.01651512104627169), ('г', 0.016328519744410568), ('з', 0.015007817326383793), ('б', 0.014777736109525905), ('ч', 0.012951579679661726), ('й', 0.009529348036791254), ('ж', 0.008574601569987263), ('ш', 0.008145237409394199), ('х', 0.0070944727969723485), ('ю', 0.005960371680806697), ('щ', 0.0035907163134829404), ('э', 0.0035200614516131953), ('ц', 0.0028171361591654755), ('ф', 0.0011576527367888995)]\n"
     ]
    }
   ],
   "source": [
    "letter_frequency_space = Counter(filtered_whitespaces)\n",
    "for i in ru_RU+' ':\n",
    "    letter_frequency_space[i] /= len(filtered_whitespaces)\n",
    "print(sorted(letter_frequency_space.items(),\n",
    "      key=lambda item: item[1], reverse=True))"
   ]
  },
  {
   "cell_type": "markdown",
   "id": "45c83da3",
   "metadata": {},
   "source": [
    "#### Частоти біграм, без пробілів"
   ]
  },
  {
   "cell_type": "code",
   "execution_count": 4,
   "id": "f0b31546",
   "metadata": {},
   "outputs": [
    {
     "name": "stdout",
     "output_type": "stream",
     "text": [
      "[('то', 0.01430399937836852), ('на', 0.01231391526385882), ('не', 0.011586520094021762), ('ст', 0.010900135334353557), ('по', 0.010889343121151227), ('ал', 0.010874234022667965), ('но', 0.010606587135250175), ('ко', 0.010500823445867337), ('ра', 0.010036758278167137), ('ен', 0.009972004998953156)]\n"
     ]
    }
   ],
   "source": [
    "bigram_frequency = {}\n",
    "for i,val in enumerate(filtered_no_whitespaces):\n",
    "    if i +1 >= len(filtered_no_whitespaces):\n",
    "        break\n",
    "    temp = filtered_no_whitespaces[i] + filtered_no_whitespaces[i+1]\n",
    "    if temp not in bigram_frequency:\n",
    "        bigram_frequency[temp] = filtered_no_whitespaces.count(temp) / (len(filtered_no_whitespaces))\n",
    "\n",
    "print(sorted(bigram_frequency.items(),\n",
    "      key=lambda item: item[1], reverse=True)[:10])"
   ]
  },
  {
   "cell_type": "markdown",
   "id": "2deaee51",
   "metadata": {},
   "source": [
    "#### Частоти біграм, з пробілами"
   ]
  },
  {
   "cell_type": "code",
   "execution_count": 5,
   "id": "af75cc0b",
   "metadata": {},
   "outputs": [
    {
     "name": "stdout",
     "output_type": "stream",
     "text": [
      "[('о ', 0.019442768656053943), ('а ', 0.017920971631167126), ('е ', 0.016768753883752825), (' н', 0.016400986269405178), ('и ', 0.01589553225756777), (' п', 0.015833935711322352), (' в', 0.013942559408963022), (' с', 0.013069337782777968), ('я ', 0.011904438393489607), ('то', 0.01160551397788684)]\n"
     ]
    }
   ],
   "source": [
    "bigram_frequency_space = {}\n",
    "for i,val in enumerate(filtered_whitespaces):\n",
    "    if i +1 >= len(filtered_whitespaces):\n",
    "        break\n",
    "    temp = filtered_whitespaces[i] + filtered_whitespaces[i+1]\n",
    "    if temp not in bigram_frequency_space:\n",
    "        bigram_frequency_space[temp] = filtered_whitespaces.count(temp) / (len(filtered_whitespaces))\n",
    "\n",
    "print(sorted(bigram_frequency_space.items(),\n",
    "      key=lambda item: item[1], reverse=True)[:10])"
   ]
  },
  {
   "cell_type": "markdown",
   "id": "4c9672f6",
   "metadata": {},
   "source": [
    "#### Ентропія"
   ]
  },
  {
   "cell_type": "code",
   "execution_count": 6,
   "id": "e084414d-d70c-4f2e-a41f-a72dff52fb37",
   "metadata": {},
   "outputs": [
    {
     "name": "stdout",
     "output_type": "stream",
     "text": [
      "No spaces\n",
      "H1 entropy : 4.490728757018316\n",
      "H2 entropy : 4.179363219527201\n",
      "With spaces\n",
      "H1 entropy : 4.405130403820585\n",
      "H2 entropy : 4.008402242541684\n"
     ]
    }
   ],
   "source": [
    "import math\n",
    "\n",
    "\n",
    "def entropy(dict_, n):\n",
    "    sum_ = 0\n",
    "    for p in dict_.values():\n",
    "        sum_ += p * math.log2(p)\n",
    "    return 1/n * (-sum_)\n",
    "\n",
    "\n",
    "def redundancy(H, n):\n",
    "    return 1 - (H/(math.log2(n)))\n",
    "\n",
    "\n",
    "lfe = entropy(letter_frequency, 1)\n",
    "bfe = entropy(bigram_frequency, 2)\n",
    "lfse = entropy(letter_frequency_space, 1)\n",
    "bfse = entropy(bigram_frequency_space, 2)\n",
    "\n",
    "print(\"No spaces\")\n",
    "print(f\"H1 entropy : {lfe}\")\n",
    "print(f\"H2 entropy : {bfe}\")\n",
    "print(\"With spaces\")\n",
    "print(f\"H1 entropy : {lfse}\")\n",
    "print(f\"H2 entropy : {bfse}\")\n"
   ]
  },
  {
   "cell_type": "markdown",
   "id": "02a20cb9",
   "metadata": {},
   "source": [
    "### Завдання 2\n",
    "> За допомогою програми CoolPinkProgram оцiнити значення H ( 10 ) , H ( 20 ) , H ( 30 )"
   ]
  },
  {
   "cell_type": "markdown",
   "id": "501fd909",
   "metadata": {},
   "source": [
    "<img src=\"/home/user/git/crypto-FB-9/cp1/kostiukovets_fb-96_cp1/pics/pink1.png\">\n",
    "<img src=\"/home/user/git/crypto-FB-9/cp1/kostiukovets_fb-96_cp1/pics/pink2.png\">\n",
    "<img src=\"/home/user/git/crypto-FB-9/cp1/kostiukovets_fb-96_cp1/pics/pink3.png\">\n",
    "\n",
    "\n",
    "+ H10: 3.1173 < R < 3.6639\n",
    "+ H20: 2.375 < R < 2.7555\n",
    "+ H30: 2.56079 < R < 3.0895"
   ]
  },
  {
   "cell_type": "markdown",
   "id": "b847a79b",
   "metadata": {},
   "source": [
    "### Завдання 3\n",
    "> Використовуючи отриманi значення ентропiї, оцiнити надлишковiсть росiйської мови в рiзних моделях джерела."
   ]
  },
  {
   "cell_type": "code",
   "execution_count": 7,
   "id": "7ab526a0",
   "metadata": {},
   "outputs": [
    {
     "name": "stdout",
     "output_type": "stream",
     "text": [
      "No spaces\n",
      "H1 redundancy : 0.0935505023078842\n",
      "H2 redundancy : 0.1563993516436103\n",
      "With spaces\n",
      "H1 redundancy : 0.11897391923588307\n",
      "H2 redundancy : 0.19831955149166325\n"
     ]
    }
   ],
   "source": [
    "def redundancy(H, n):\n",
    "    return 1 - (H/(math.log2(n)))\n",
    "\n",
    "\n",
    "lfr = redundancy(lfe, len(ru_RU))\n",
    "bfr = redundancy(bfe, len(ru_RU))\n",
    "lfsr = redundancy(lfse, len(ru_RU) + 1)\n",
    "bfsr = redundancy(bfse, len(ru_RU) + 1)\n",
    "\n",
    "print(\"No spaces\")\n",
    "print(f\"H1 redundancy : {lfr}\")\n",
    "print(f\"H2 redundancy : {bfr}\")\n",
    "print(\"With spaces\")\n",
    "print(f\"H1 redundancy : {lfsr}\")\n",
    "print(f\"H2 redundancy : {bfsr}\")\n"
   ]
  },
  {
   "cell_type": "markdown",
   "id": "39045566",
   "metadata": {},
   "source": [
    "## Висновок\n",
    "> Пiд час виконання даної лабораторної роботи я навчився вимiрювати частоти символiв та бiграм у текстi, визначати ентропiю. Також, я навчився визначати надлишковiсть мови."
   ]
  }
 ],
 "metadata": {
  "kernelspec": {
   "display_name": "Python 3 (ipykernel)",
   "language": "python",
   "name": "python3"
  },
  "language_info": {
   "codemirror_mode": {
    "name": "ipython",
    "version": 3
   },
   "file_extension": ".py",
   "mimetype": "text/x-python",
   "name": "python",
   "nbconvert_exporter": "python",
   "pygments_lexer": "ipython3",
   "version": "3.8.12"
  }
 },
 "nbformat": 4,
 "nbformat_minor": 5
}
