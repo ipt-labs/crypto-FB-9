{
 "cells": [
  {
   "cell_type": "code",
   "execution_count": 1,
   "metadata": {},
   "outputs": [
    {
     "ename": "ModuleNotFoundError",
     "evalue": "No module named 'requests'",
     "output_type": "error",
     "traceback": [
      "\u001b[1;31m---------------------------------------------------------------------------\u001b[0m",
      "\u001b[1;31mModuleNotFoundError\u001b[0m                       Traceback (most recent call last)",
      "\u001b[1;32m~\\AppData\\Local\\Temp/ipykernel_11336/1822145902.py\u001b[0m in \u001b[0;36m<module>\u001b[1;34m\u001b[0m\n\u001b[0;32m      1\u001b[0m \u001b[1;32mfrom\u001b[0m \u001b[0mrandom\u001b[0m \u001b[1;32mimport\u001b[0m \u001b[1;33m*\u001b[0m\u001b[1;33m\u001b[0m\u001b[1;33m\u001b[0m\u001b[0m\n\u001b[1;32m----> 2\u001b[1;33m \u001b[1;32mimport\u001b[0m \u001b[0mrequests\u001b[0m\u001b[1;33m\u001b[0m\u001b[1;33m\u001b[0m\u001b[0m\n\u001b[0m\u001b[0;32m      3\u001b[0m \u001b[1;32mimport\u001b[0m \u001b[0mjson\u001b[0m\u001b[1;33m\u001b[0m\u001b[1;33m\u001b[0m\u001b[0m\n",
      "\u001b[1;31mModuleNotFoundError\u001b[0m: No module named 'requests'"
     ]
    }
   ],
   "source": [
    "from random import *\n",
    "import requests\n",
    "import json"
   ]
  },
  {
   "cell_type": "code",
   "execution_count": null,
   "metadata": {},
   "outputs": [],
   "source": [
    "def gcd(x, y):\n",
    "    return x if y == 0 else gcd(y, x % y)\n",
    "\n",
    "\n",
    "def ExtendedGCD(a, b):\n",
    "    if a == 0:\n",
    "        return b, 0, 1\n",
    "    Gcd, x1, y1 = ExtendedGCD(b % a, a)\n",
    "    x = y1 - (b // a) * x1\n",
    "    y = x1\n",
    "    return Gcd, x, y\n",
    "\n",
    "\n",
    "def reversal(x, m):\n",
    "    Gcd, a, b = ExtendedGCD(x, m)\n",
    "    if Gcd == 1:\n",
    "        return (a % m + m) % m"
   ]
  },
  {
   "cell_type": "code",
   "execution_count": null,
   "metadata": {},
   "outputs": [],
   "source": [
    "def rec_get_d(d, z=0):\n",
    "\treturn d, z if d % 2 != 0 else rec_get_d(d // 2, z + 1)\n",
    "\n",
    "\n",
    "# step 0\n",
    "def rec_get_d(d, z=0):\n",
    "\tif d % 2 != 0:\n",
    "\t\treturn d, z\n",
    "\telse:\n",
    "\t\treturn rec_get_d(d // 2, z + 1)\n",
    "\n",
    "\n",
    "def issprime(p):\n",
    "\tfor prime in [2, 3, 5, 7]:\n",
    "\t\tif p % prime == 0:\n",
    "\t\t\treturn False\n",
    "\td, z = rec_get_d(p - 1)\n",
    "\tK = 20\n",
    "\tcounter = 0\n",
    "\tfor cycle in range(1, K + 1):\n",
    "\t\tx = randint(2, p - 1)\n",
    "\t\tif gcd(x, p) == 1:\n",
    "\t\t\tpw = pow(x, d, p)\n",
    "\t\t\tif pw == 1 or pw - p == -1:\n",
    "\t\t\t\tcounter += 1\n",
    "\t\t\t\tcontinue\n",
    "\t\t\telse:\n",
    "\t\t\t\tfor r in range(1, z):\n",
    "\t\t\t\t\txr = pow(x, d * (2 ** r), p)\n",
    "\t\t\t\t\tif xr - p == -1:\n",
    "\t\t\t\t\t\tcounter += 1\n",
    "\t\t\t\t\t\tbreak\n",
    "\t\t\t\t\telif xr == 1:\n",
    "\t\t\t\t\t\tcontinue\n",
    "\treturn True if counter == K else False\n",
    "\n",
    "\n",
    "def create_keys(key):\n",
    "\tn = key[0] * key[1]  # modulus\n",
    "\tphi = (key[0] - 1) * (key[1] - 1)\n",
    "\twhile True:\n",
    "\t\te = randrange(2, phi - 1)\n",
    "\t\tif gcd(e, phi) == 1:\n",
    "\t\t\td = reversal(e, phi)\n",
    "\t\t\tif d is None:\n",
    "\t\t\t\tcontinue\n",
    "\t\t\telse:\n",
    "\t\t\t\treturn n, e, d\n",
    "\t\telse:\n",
    "\t\t\tcontinue\n",
    "\n",
    "\n",
    "def GenerateKeyPairs(number=4, length=256):\n",
    "\tprimes = []\n",
    "\tpc = 1\n",
    "\twhile len(primes) < number:\n",
    "\t\tp = getrandbits(length)\n",
    "\t\tif issprime(p):\n",
    "\t\t\tprimes.append(p)\n",
    "\t\telse:\n",
    "\t\t\tprint(f\"Bad p (№{pc}):: {p}\")\n",
    "\t\t\tpc+=1\n",
    "\treturn [[primes[x], primes[x+1]] for x in range(0,len(primes),2 )]"
   ]
  },
  {
   "cell_type": "code",
   "execution_count": null,
   "metadata": {},
   "outputs": [],
   "source": [
    "A, B = GenerateKeyPairs()"
   ]
  },
  {
   "cell_type": "code",
   "execution_count": null,
   "metadata": {},
   "outputs": [],
   "source": [
    "print(f\"A\\np_A {A[0]}\\nq_A {A[1]}\")\n",
    "print()\n",
    "print(f\"B\\np_B {B[0]}\\nq_B {B[1]}\")"
   ]
  },
  {
   "cell_type": "code",
   "execution_count": null,
   "metadata": {},
   "outputs": [],
   "source": [
    "def int_to_bytes(INT):\n",
    "    return INT.to_bytes((INT.bit_length() + 7) // 8, byteorder='big')"
   ]
  },
  {
   "cell_type": "code",
   "execution_count": null,
   "metadata": {},
   "outputs": [],
   "source": [
    "A, B = create_keys(A), create_keys(B)\n",
    "print(f\"A\\nn_A {A[0]}\\ne_A {A[1]}\\nd_A {A[2]}\")\n",
    "print()\n",
    "print(f\"B\\nn_B {B[0]}\\ne_B {B[1]}\\nd_B {B[2]}\")\n",
    "print()\n",
    "K = \"Hello, world!\".encode('utf8')\n",
    "K = int.from_bytes(K, byteorder='big')\n",
    "print(\"Message (int)\", hex(K)[2:].upper())\n",
    "print(\"Message \",K.to_bytes((K.bit_length() + 7) // 8, byteorder='big'))"
   ]
  },
  {
   "cell_type": "code",
   "execution_count": null,
   "metadata": {},
   "outputs": [],
   "source": [
    "def create_message(VT, your_d, other_e, your_n, other_n):\n",
    "\tVT_encypted = pow(VT, other_e, other_n) # encode\n",
    "\tsign  = pow(VT, your_d, your_n)   # sign\n",
    "\tsign_encrypted = pow(sign, other_e, other_n)  # encode\n",
    "\treturn [VT_encypted, sign_encrypted]"
   ]
  },
  {
   "cell_type": "code",
   "execution_count": null,
   "metadata": {},
   "outputs": [],
   "source": [
    "Message = create_message(K, A[2], B[1], A[0], B[0])\n",
    "print(\"Message\")\n",
    "print(Message[0])\n",
    "print(Message[1])\n",
    "Sign = pow(K, A[2], A[0])\n",
    "print(\"Sign\")\n",
    "print(Sign)\n"
   ]
  },
  {
   "cell_type": "code",
   "execution_count": null,
   "metadata": {},
   "outputs": [],
   "source": [
    "#Tests\n",
    "CT = pow(Message[0], B[2], B[0])\n",
    "AT = pow(Sign, A[1], A[0])\n",
    "print(\"conffidentiality\",CT, int_to_bytes(CT))\n",
    "print(\"authenticy\",AT, int_to_bytes(AT))"
   ]
  },
  {
   "cell_type": "code",
   "execution_count": null,
   "metadata": {},
   "outputs": [],
   "source": [
    "session = requests.Session()\n",
    "server_publik_key = json.loads(session.get(\"https://asym-crypt-study.herokuapp.com/rsa/serverKey?keySize=512\").content)\n",
    "\n",
    "def Decrypt(Message, Type):\n",
    "\treturn session.get(\"https://asym-crypt-study.herokuapp.com/rsa/decrypt?cipherText=\" + hex(Message)[2:] + \"&type=\"+ Type)\n",
    "\n",
    "def Encrypt(Modulus, publicExponent, Message, Type):\n",
    "\treturn session.get(\"https://asym-crypt-study.herokuapp.com/rsa/encrypt?modulus=\" + hex(Modulus)[2:] + \"&publicExponent=\" + hex(publicExponent)[2:]+\"&message=\"+Message+\"&type=\"+ Type)\n",
    "\n",
    "def Verify(Message, Sign, Modulus, publicExponent):\n",
    "\treturn session.get(\"https://asym-crypt-study.herokuapp.com/rsa/verify?message=\" + hex(Message)[2:] + \"&type=BYTES&signature=\" + hex(Sign)[2:] + \"&modulus=\" + hex(Modulus)[2:] + \"&publicExponent=\" + hex(publicExponent)[2:])\n",
    "\n",
    "def Sign(Message):\n",
    "\treturn session.get(\"https://asym-crypt-study.herokuapp.com/rsa/sign?message=\"+hex(Message)[2:]+\"&type=BYTES\")\n",
    "\n",
    "def SendKey(Modulus, publicExponent):\n",
    "\treturn session.get(\"https://asym-crypt-study.herokuapp.com/rsa/sendKey?modulus=\" + hex(Modulus)[2:] + \"&publicExponent=\" + hex(publicExponent)[2:])\n",
    "\n",
    "def ReceiveKey(Key, Signature, Modulus, publicExponent):\n",
    "\treturn session.get(\"https://asym-crypt-study.herokuapp.com/rsa/receiveKey?key=\" + hex(Key)[2:] + \"&signature=\" + hex(Signature)[2:] + \"&modulus=\" + hex(Modulus)[2:] + \"&publicExponent=\" + hex(publicExponent)[2:])"
   ]
  },
  {
   "cell_type": "code",
   "execution_count": null,
   "metadata": {},
   "outputs": [],
   "source": [
    "print(\"Verify\")\n",
    "print(json.loads(Verify(K, pow(K, A[2], A[0]), A[0], A[1]).content))\n",
    "\n",
    "print(\"Sign\")\n",
    "print(json.loads(Sign(K).content))\n",
    "\n",
    "print(\"SendKey\")\n",
    "print(json.loads(SendKey(A[0], A[1]).content))\n",
    "\n",
    "print(\"create_message\")\n",
    "received_Key = create_message(K, A[2], int(server_publik_key['publicExponent'], 16), A[0], int(server_publik_key['modulus'], 16))\n",
    "response = ReceiveKey(received_Key[0], received_Key[1], A[0], A[1]).content\n",
    "print(json.loads(response))\n",
    "\n",
    "print(\"Encrypt\")\n",
    "response = Encrypt(int(server_publik_key['modulus'], 16), int(server_publik_key['publicExponent'], 16), \"100\", \"BYTES\").content\n",
    "y = json.loads(response)\n",
    "print(y)\n",
    "x = \"https://asym-crypt-study.herokuapp.com/rsa/decrypt?cipherText=\"+hex(received_Key[0])[2:]+\"&expectedType=BYTES\"\n",
    "x = session.get(x).content\n",
    "print(x)\n",
    "\n",
    "print(\"Decrypt\")\n",
    "VT_encypted = pow(K, int(server_publik_key['publicExponent'], 16), int(server_publik_key['modulus'], 16)) # encode\n",
    "response = Decrypt(VT_encypted, \"BYTES\").content\n",
    "y = json.loads(response)\n",
    "print(y)\n",
    "text = int('0x'+y['message'],16)\n",
    "print(f\"text {int_to_bytes(text)}\")"
   ]
  }
 ],
 "metadata": {
  "interpreter": {
   "hash": "6787530bf9925b057af33f954282f7ad07558b12920f3eef54087b2f6236d6d8"
  },
  "kernelspec": {
   "display_name": "Python 3 (ipykernel)",
   "language": "python",
   "name": "python3"
  },
  "language_info": {
   "codemirror_mode": {
    "name": "ipython",
    "version": 3
   },
   "file_extension": ".py",
   "mimetype": "text/x-python",
   "name": "python",
   "nbconvert_exporter": "python",
   "pygments_lexer": "ipython3",
   "version": "3.10.1"
  }
 },
 "nbformat": 4,
 "nbformat_minor": 2
}
