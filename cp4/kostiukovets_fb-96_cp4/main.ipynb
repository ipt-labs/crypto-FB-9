{
 "cells": [
  {
   "cell_type": "markdown",
   "id": "a0004719",
   "metadata": {},
   "source": [
    "# <center> Лабораторна робота з криптографії №4</center>\n",
    "#### <div align=right >Виконав: Костюковець Остап ФБ-96</div>\n",
    "#### <div align=right >Варіант №5</div>"
   ]
  },
  {
   "cell_type": "markdown",
   "id": "59334f93",
   "metadata": {},
   "source": [
    "### <center> Вивчення криптосистеми RSA та алгоритму електронного підпису; ознайомлення з методами генерації параметрів для асиметричних криптосистем </center>\n",
    "\n",
    "**Мета**: Ознайомлення з тестами перевірки чисел на простоту і методами генерації ключів\n",
    "для асиметричної криптосистеми типу RSA; практичне ознайомлення з системою захисту\n",
    "інформації на основі криптосхеми RSA, організація з використанням цієї системи\n",
    "засекреченого зв'язку й електронного підпису, вивчення протоколу розсилання ключів."
   ]
  },
  {
   "cell_type": "markdown",
   "id": "653b6150",
   "metadata": {
    "tags": []
   },
   "source": [
    "## Хід роботи"
   ]
  },
  {
   "cell_type": "markdown",
   "id": "dcd2aba4",
   "metadata": {
    "jp-MarkdownHeadingCollapsed": true,
    "tags": []
   },
   "source": [
    "### Завдання 1\n",
    "\n",
    " > Написати функцію пошуку випадкового простого числа з заданого інтервалу або\n",
    "заданої довжини, використовуючи датчик випадкових чисел та тести перевірки на\n",
    "простоту. В якості датчика випадкових чисел використовуйте вбудований генератор\n",
    "псевдовипадкових чисел вашої мови програмування. В якості тесту перевірки на простоту\n",
    "рекомендовано використовувати тест Міллера-Рабіна із попередніми пробними\n",
    "діленнями. Тести необхідно реалізовувати власноруч, використання готових реалізацій\n",
    "тестів не дозволяється."
   ]
  },
  {
   "cell_type": "code",
   "execution_count": 1,
   "id": "8eea312a",
   "metadata": {},
   "outputs": [
    {
     "name": "stdout",
     "output_type": "stream",
     "text": [
      "0xed31b20ff04364519c978a698535c3ac2e558931fedf24b9d4e6f5fe7dcb2b2f\n"
     ]
    }
   ],
   "source": [
    "import random\n",
    "\n",
    "\n",
    "def gcd(a, b):\n",
    "    p = [0, 1]\n",
    "    gcd_val = b\n",
    "    a, b = max(a, b), min(a, b)\n",
    "\n",
    "    while b != 0:\n",
    "        q = a // b\n",
    "        gcd_val = b\n",
    "        a, b = b, a % b\n",
    "        p.append(p[-1] * (-q) + p[-2])\n",
    "\n",
    "    return gcd_val, p[-2]\n",
    "\n",
    "\n",
    "def miller_rabin(n, k):\n",
    "    if n == 2:\n",
    "        return True\n",
    "\n",
    "    if n % 2 == 0:\n",
    "        return False\n",
    "\n",
    "    r, s = 0, n - 1\n",
    "    while s % 2 == 0:\n",
    "        r += 1\n",
    "        s //= 2\n",
    "    for _ in range(k):\n",
    "        a = random.randrange(2, n - 1)\n",
    "        x = pow(a, s, n)\n",
    "        if x == 1 or x == n - 1:\n",
    "            continue\n",
    "        for _ in range(r - 1):\n",
    "            x = pow(x, 2, n)\n",
    "            if x == n - 1:\n",
    "                break\n",
    "        else:\n",
    "            return False\n",
    "    return True\n",
    "\n",
    "\n",
    "def random_prime(n):\n",
    "    min_number = 2 ** (n - 1)\n",
    "    max_number = 2 ** (n + 1) - 1\n",
    "    random_number = random.randint(min_number, max_number)\n",
    "\n",
    "    if not random_number & 1:\n",
    "        random_number += 1\n",
    "\n",
    "    while True:\n",
    "        if miller_rabin(random_number,40):\n",
    "            return random_number\n",
    "        else:\n",
    "            random_number += 2\n",
    "\n",
    "\n",
    "print(hex(random_prime(255)))"
   ]
  },
  {
   "cell_type": "markdown",
   "id": "02a20cb9",
   "metadata": {},
   "source": [
    "### Завдання 2\n",
    "> За допомогою цієї функції згенерувати дві пари простих чисел p, q і p 1 , q 1\n",
    "довжини щонайменше 256 біт. При цьому пари чисел беруться так, щоб pq < p 1 q 1 ; p і q –\n",
    "прості числа для побудови ключів абонента А, p 1 і q 1 – абонента B."
   ]
  },
  {
   "cell_type": "code",
   "execution_count": 2,
   "id": "a0b34b5a",
   "metadata": {},
   "outputs": [
    {
     "name": "stdout",
     "output_type": "stream",
     "text": [
      " p = 0x83d6eb04b9b8525e2a6a7f9e3fb0afc7518910e3cb070d87c1cabf957e3ee5e9\n",
      " q = 0x6a7376e087ad4bad0b4476f67140bdc8c1d12723e77db68fa6db1210dfd70993 \n",
      " p1 = 0x7d7c9511cfec389829c01ae5b66081368b06d0ab32f7f94aa202615fe97f04af\n",
      " q1 = 0x9a39d0485639c278fdd2064331ce15a8db84aab160b9bd3808cf5d86e8c18d39\n"
     ]
    }
   ],
   "source": [
    "size = 255\n",
    "p, q = random_prime(size), random_prime(size)\n",
    "p1, q1 = random_prime(size), random_prime(size)\n",
    "\n",
    "if p*q>p1*q1:\n",
    "    temp = p\n",
    "    p = p1\n",
    "    p1 = temp\n",
    "\n",
    "    temp = q\n",
    "    q = q1\n",
    "    q1 = temp\n",
    "\n",
    "print(f\" p = {hex(p)}\\n q = {hex(q)} \\n p1 = {hex(p1)}\\n q1 = {hex(q1)}\")"
   ]
  },
  {
   "cell_type": "markdown",
   "id": "b847a79b",
   "metadata": {},
   "source": [
    "### Завдання 3\n",
    "> Написати функцію генерації ключових пар для RSA. Після генерування функція\n",
    "повинна повертати та/або зберігати секретний ключ ( d , p , q ) та відкритий ключ ( n , e ) . За\n",
    "допомогою цієї функції побудувати схеми RSA для абонентів А і B – тобто, створити та\n",
    "зберегти для подальшого використання відкриті ключі ( e , n ) , ( e 1 , n 1 ) та секретні d і d 1 ."
   ]
  },
  {
   "cell_type": "code",
   "execution_count": 3,
   "id": "872dbfcd",
   "metadata": {},
   "outputs": [
    {
     "name": "stdout",
     "output_type": "stream",
     "text": [
      " d = 0x31a09c223f8b6f8b8ca2d0561e11ce344f07f2774b8918a2b06b0825880fa49c86eb965f713d6729a73e682e0d423e15bc9f0949423c17efe30a30642329a5b1\n",
      " n = 0x36d274143a4726cada2308ae7e93ee29791ee81aacfe2414e81f9f8d52dbd23213d1b67ac78d3d7385030c66584de25413dfa1b8649941319c19d5f0c1e235cb \n",
      " e = 0x10001\n",
      "\n",
      " d1 = 0xf9fe19da3cdad4b0d0e9c7f54515f956426b513c9b86375cfd4de3e1a2dd83b1f45dfdb59ccf7580d2f83d275afbe77875d5661525b07e58a09658c68848a91\n",
      " n1 = 0x4b9948829677f5bb700381c8f0dfd96bb4b454309685cbd702f13d93554b6653fa7e3a488bf315fb1bbb33051037494649ed82dbc4c8b80d55c4ad9112cb6df7 \n",
      " e1 = 0x10001\n"
     ]
    }
   ],
   "source": [
    "def RSA(p, q):\n",
    "    e = 0x10001\n",
    "\n",
    "    f = (p - 1) * (q - 1)\n",
    "    n = p * q\n",
    "\n",
    "    _, d = gcd(e, f)\n",
    "\n",
    "    return d % f, p, q, n, e\n",
    "\n",
    "d, _, _, n, e = RSA(p,q)\n",
    "d1, _, _, n1, e1 = RSA(p1,q1)\n",
    "\n",
    "\n",
    "print(f\" d = {hex(d)}\\n n = {hex(n)} \\n e = {hex(e)}\\n\")\n",
    "print(f\" d1 = {hex(d1)}\\n n1 = {hex(n1)} \\n e1 = {hex(e1)}\")"
   ]
  },
  {
   "cell_type": "markdown",
   "id": "be447255",
   "metadata": {},
   "source": [
    "### Завдання 4\n",
    "\n",
    "> Написати програму шифрування, розшифрування і створення повідомлення з\n",
    "цифровим підписом для абонентів А і B. Кожна з операцій (шифрування, розшифрування,\n",
    "створення цифрового підпису, перевірка цифрового підпису) повинна бути реалізована\n",
    "окремою процедурою, на вхід до якої повинні подаватись лише ті ключові дані, які\n",
    "необхідні для її виконання."
   ]
  },
  {
   "cell_type": "code",
   "execution_count": 4,
   "id": "81ca8a06",
   "metadata": {},
   "outputs": [],
   "source": [
    "def encrypt(m, e, n):\n",
    "    return pow(m, e, n)\n",
    "\n",
    "\n",
    "def decrypt(c, n, d):\n",
    "    return pow(c, d, n)\n",
    "\n",
    "\n",
    "def sign(m, n, d):\n",
    "    return pow(m, d, n)\n",
    "\n",
    "\n",
    "def verify(m, s, e, n):\n",
    "    return m == pow(s, e, n)\n"
   ]
  },
  {
   "cell_type": "markdown",
   "id": "ce8db4a1",
   "metadata": {},
   "source": [
    "### Завдання 5\n",
    "> За допомогою раніше написаних на попередніх етапах програм організувати\n",
    "роботу протоколу конфіденційного розсилання ключів з підтвердженням справжності по\n",
    "відкритому каналу за допомогою алгоритму RSA. Протоколи роботи кожного учасника\n",
    "(відправника та приймаючого) повинні бути реалізовані у вигляді окремих процедур, на\n",
    "вхід до яких повинні подаватись лише ті ключові дані, які необхідні для виконання.\n",
    "Перевірити роботу програм для випадково обраного ключа 0  k  n ."
   ]
  },
  {
   "cell_type": "code",
   "execution_count": 5,
   "id": "3018295e",
   "metadata": {},
   "outputs": [],
   "source": [
    "def send_key(k, A_private, B_public):\n",
    "    c = encrypt(k, *B_public)\n",
    "    s = sign(c, *A_private)\n",
    "    s1 = encrypt(s, *B_public)\n",
    "    return c, s1\n",
    "\n",
    "\n",
    "def recv_key(c, s1, A_public, B_private):\n",
    "    s = decrypt(s1, *B_private)\n",
    "    if verify(c, s, *A_public):\n",
    "        k = decrypt(c, *B_private)\n",
    "        return k\n",
    "    return None\n"
   ]
  },
  {
   "cell_type": "markdown",
   "id": "5bd3181f",
   "metadata": {},
   "source": [
    "### Перевірка локально\n"
   ]
  },
  {
   "cell_type": "code",
   "execution_count": 6,
   "id": "0520bdf2",
   "metadata": {},
   "outputs": [
    {
     "name": "stdout",
     "output_type": "stream",
     "text": [
      "Encrypted : 0x737093ee1edfe29939ff87d54d4b6d1bb81e84c0eb8bcb6fc3674b65b1f29c26b7262d17e0b88f90135c15df2f9c8e29360e3615e37b84f30d32a0bbe2f29e1\n",
      "Decrypted : b'AES_KEY'\n"
     ]
    }
   ],
   "source": [
    "m = int(b\"AES_KEY\".hex(), 16)\n",
    "\n",
    "# A has: p, q, d, e, n, e1, n1, m\n",
    "# B has: p1, q1, d1, e1, n1, e, n, c, s1\n",
    "\n",
    "c, s1 = send_key(m, [n, d], [e1, n1])\n",
    "print(f\"Encrypted : {hex(c)}\")\n",
    "\n",
    "m = recv_key(c, s1, [e, n], [n1, d1])\n",
    "print(f\"Decrypted : {bytes.fromhex(hex(m)[2:])}\")\n"
   ]
  },
  {
   "cell_type": "markdown",
   "id": "c0ff4048",
   "metadata": {},
   "source": [
    "### Перевірка онлайн"
   ]
  },
  {
   "cell_type": "markdown",
   "id": "6af870aa",
   "metadata": {},
   "source": [
    "<img src=\"/home/user/git/crypto-FB-9/cp4/kostiukovets_fb-96_cp4/rsa1.png\">"
   ]
  },
  {
   "cell_type": "markdown",
   "id": "39045566",
   "metadata": {},
   "source": [
    "## Висновок\n",
    "> Пiд час виконання даної лабораторної роботи я ознайомився з тестами перевірки чисел на простоту і методами генерації ключів для фсиметричної криптосистеми типу RSA. Також, я ознайомися з криптосистемою RSA та реалізував засекречений зв'язок з використанням цієї системи"
   ]
  }
 ],
 "metadata": {
  "kernelspec": {
   "display_name": "Python 3 (ipykernel)",
   "language": "python",
   "name": "python3"
  },
  "language_info": {
   "codemirror_mode": {
    "name": "ipython",
    "version": 3
   },
   "file_extension": ".py",
   "mimetype": "text/x-python",
   "name": "python",
   "nbconvert_exporter": "python",
   "pygments_lexer": "ipython3",
   "version": "3.8.12"
  }
 },
 "nbformat": 4,
 "nbformat_minor": 5
}
